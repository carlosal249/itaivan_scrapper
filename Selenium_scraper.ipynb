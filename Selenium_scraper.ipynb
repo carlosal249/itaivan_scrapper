{
 "cells": [
  {
   "cell_type": "code",
   "execution_count": 2,
   "metadata": {},
   "outputs": [],
   "source": [
    "from selenium import webdriver\n",
    "from bs4 import BeautifulSoup\n",
    "import requests\n",
    "import time\n",
    "\n",
    "PATH = 'D:\\OneDrive\\Área de Trabalho\\Portifolio\\Recomendador de imoveis\\Scrapers\\chromedriver.exe'\n",
    "url =  'https://www.quintoandar.com.br/alugar/imovel/sao-paulo-sp-brasil'\n",
    "\n",
    "driver = webdriver.Chrome(PATH)\n",
    "driver.get(url)\n",
    "\n",
    "driver.maximize_window()\n",
    "\n",
    "time.sleep(40)\n",
    "\n",
    "driver.implicitly_wait(2)\n",
    "\n",
    "page = driver.execute_script(\"return document.documentElement.innerHTML;\")\n",
    "\n",
    "soup = BeautifulSoup(''.join(page), 'html.parser')\n",
    "driver.close()"
   ]
  },
  {
   "cell_type": "code",
   "execution_count": 3,
   "metadata": {},
   "outputs": [],
   "source": [
    "import bs4 as bs4\n",
    "import urllib.request\n",
    "import requests\n",
    "import time\n",
    "\n",
    "site = 'https://www.quintoandar.com.br/alugar/imovel/sao-paulo-sp-brasil/'\n",
    "source = urllib.request.urlopen(site).read()\n",
    "time.sleep(5)\n",
    "soup = bs4.BeautifulSoup(source,'lxml')"
   ]
  },
  {
   "cell_type": "code",
   "execution_count": 4,
   "metadata": {},
   "outputs": [
    {
     "data": {
      "text/plain": [
       "'15.250 imóveis encontrados nessa região e arredores'"
      ]
     },
     "execution_count": 4,
     "metadata": {},
     "output_type": "execute_result"
    }
   ],
   "source": [
    "n_imoveis = soup.find('span', class_ ='sc-bdVaJa Ongdx').get_text()\n",
    "n_imoveis"
   ]
  },
  {
   "cell_type": "code",
   "execution_count": 34,
   "metadata": {
    "collapsed": true
   },
   "outputs": [
    {
     "name": "stdout",
     "output_type": "stream",
     "text": [
      "[' 40 m²  ', ' 1 quarto', ' 40 m²  ', ' 1 quarto', ' 28 m²  ', ' 1 quarto', ' 40 m²  ', ' 1 quarto', ' 30 m²  ', ' 1 quarto', ' 30 m²  ', ' 1 quarto', ' 25 m²  ', ' 1 quarto', ' 40 m²  ', ' 1 quarto', ' 28 m²  ', ' 1 quarto', ' 26 m²  ', ' 1 quarto', ' 25 m²  ', ' 1 quarto', ' 0 m²  ', ' 0 quartos', ' 0 m²  ', ' 0 quartos']\n",
      "[' 40 m²  ', ' 1 quarto', ' 40 m²  ', ' 1 quarto', ' 28 m²  ', ' 1 quarto', ' 40 m²  ', ' 1 quarto', ' 30 m²  ', ' 1 quarto', ' 30 m²  ', ' 1 quarto', ' 25 m²  ', ' 1 quarto', ' 40 m²  ', ' 1 quarto', ' 28 m²  ', ' 1 quarto', ' 26 m²  ', ' 1 quarto', ' 25 m²  ', ' 1 quarto', ' 0 m²  ', ' 0 quartos', ' 0 m²  ', ' 0 quartos']\n",
      "[' 40 m²  ', ' 1 quarto', ' 40 m²  ', ' 1 quarto', ' 28 m²  ', ' 1 quarto', ' 40 m²  ', ' 1 quarto', ' 30 m²  ', ' 1 quarto', ' 30 m²  ', ' 1 quarto', ' 25 m²  ', ' 1 quarto', ' 40 m²  ', ' 1 quarto', ' 28 m²  ', ' 1 quarto', ' 26 m²  ', ' 1 quarto', ' 25 m²  ', ' 1 quarto', ' 0 m²  ', ' 0 quartos', ' 0 m²  ', ' 0 quartos']\n",
      "[' 40 m²  ', ' 1 quarto', ' 40 m²  ', ' 1 quarto', ' 28 m²  ', ' 1 quarto', ' 40 m²  ', ' 1 quarto', ' 30 m²  ', ' 1 quarto', ' 30 m²  ', ' 1 quarto', ' 25 m²  ', ' 1 quarto', ' 40 m²  ', ' 1 quarto', ' 28 m²  ', ' 1 quarto', ' 26 m²  ', ' 1 quarto', ' 25 m²  ', ' 1 quarto', ' 0 m²  ', ' 0 quartos', ' 0 m²  ', ' 0 quartos']\n",
      "[' 40 m²  ', ' 1 quarto', ' 40 m²  ', ' 1 quarto', ' 28 m²  ', ' 1 quarto', ' 40 m²  ', ' 1 quarto', ' 30 m²  ', ' 1 quarto', ' 30 m²  ', ' 1 quarto', ' 25 m²  ', ' 1 quarto', ' 40 m²  ', ' 1 quarto', ' 28 m²  ', ' 1 quarto', ' 26 m²  ', ' 1 quarto', ' 25 m²  ', ' 1 quarto', ' 0 m²  ', ' 0 quartos', ' 0 m²  ', ' 0 quartos']\n",
      "[' 40 m²  ', ' 1 quarto', ' 40 m²  ', ' 1 quarto', ' 28 m²  ', ' 1 quarto', ' 40 m²  ', ' 1 quarto', ' 30 m²  ', ' 1 quarto', ' 30 m²  ', ' 1 quarto', ' 25 m²  ', ' 1 quarto', ' 40 m²  ', ' 1 quarto', ' 28 m²  ', ' 1 quarto', ' 26 m²  ', ' 1 quarto', ' 25 m²  ', ' 1 quarto', ' 0 m²  ', ' 0 quartos', ' 0 m²  ', ' 0 quartos']\n",
      "[' 40 m²  ', ' 1 quarto', ' 40 m²  ', ' 1 quarto', ' 28 m²  ', ' 1 quarto', ' 40 m²  ', ' 1 quarto', ' 30 m²  ', ' 1 quarto', ' 30 m²  ', ' 1 quarto', ' 25 m²  ', ' 1 quarto', ' 40 m²  ', ' 1 quarto', ' 28 m²  ', ' 1 quarto', ' 26 m²  ', ' 1 quarto', ' 25 m²  ', ' 1 quarto', ' 0 m²  ', ' 0 quartos', ' 0 m²  ', ' 0 quartos']\n",
      "[' 40 m²  ', ' 1 quarto', ' 40 m²  ', ' 1 quarto', ' 28 m²  ', ' 1 quarto', ' 40 m²  ', ' 1 quarto', ' 30 m²  ', ' 1 quarto', ' 30 m²  ', ' 1 quarto', ' 25 m²  ', ' 1 quarto', ' 40 m²  ', ' 1 quarto', ' 28 m²  ', ' 1 quarto', ' 26 m²  ', ' 1 quarto', ' 25 m²  ', ' 1 quarto', ' 0 m²  ', ' 0 quartos', ' 0 m²  ', ' 0 quartos']\n",
      "[' 40 m²  ', ' 1 quarto', ' 40 m²  ', ' 1 quarto', ' 28 m²  ', ' 1 quarto', ' 40 m²  ', ' 1 quarto', ' 30 m²  ', ' 1 quarto', ' 30 m²  ', ' 1 quarto', ' 25 m²  ', ' 1 quarto', ' 40 m²  ', ' 1 quarto', ' 28 m²  ', ' 1 quarto', ' 26 m²  ', ' 1 quarto', ' 25 m²  ', ' 1 quarto', ' 0 m²  ', ' 0 quartos', ' 0 m²  ', ' 0 quartos']\n",
      "[' 40 m²  ', ' 1 quarto', ' 40 m²  ', ' 1 quarto', ' 28 m²  ', ' 1 quarto', ' 40 m²  ', ' 1 quarto', ' 30 m²  ', ' 1 quarto', ' 30 m²  ', ' 1 quarto', ' 25 m²  ', ' 1 quarto', ' 40 m²  ', ' 1 quarto', ' 28 m²  ', ' 1 quarto', ' 26 m²  ', ' 1 quarto', ' 25 m²  ', ' 1 quarto', ' 0 m²  ', ' 0 quartos', ' 0 m²  ', ' 0 quartos']\n",
      "[' 40 m²  ', ' 1 quarto', ' 40 m²  ', ' 1 quarto', ' 28 m²  ', ' 1 quarto', ' 40 m²  ', ' 1 quarto', ' 30 m²  ', ' 1 quarto', ' 30 m²  ', ' 1 quarto', ' 25 m²  ', ' 1 quarto', ' 40 m²  ', ' 1 quarto', ' 28 m²  ', ' 1 quarto', ' 26 m²  ', ' 1 quarto', ' 25 m²  ', ' 1 quarto', ' 0 m²  ', ' 0 quartos', ' 0 m²  ', ' 0 quartos']\n",
      "[' 40 m²  ', ' 1 quarto', ' 40 m²  ', ' 1 quarto', ' 28 m²  ', ' 1 quarto', ' 40 m²  ', ' 1 quarto', ' 30 m²  ', ' 1 quarto', ' 30 m²  ', ' 1 quarto', ' 25 m²  ', ' 1 quarto', ' 40 m²  ', ' 1 quarto', ' 28 m²  ', ' 1 quarto', ' 26 m²  ', ' 1 quarto', ' 25 m²  ', ' 1 quarto', ' 0 m²  ', ' 0 quartos', ' 0 m²  ', ' 0 quartos']\n",
      "[' 40 m²  ', ' 1 quarto', ' 40 m²  ', ' 1 quarto', ' 28 m²  ', ' 1 quarto', ' 40 m²  ', ' 1 quarto', ' 30 m²  ', ' 1 quarto', ' 30 m²  ', ' 1 quarto', ' 25 m²  ', ' 1 quarto', ' 40 m²  ', ' 1 quarto', ' 28 m²  ', ' 1 quarto', ' 26 m²  ', ' 1 quarto', ' 25 m²  ', ' 1 quarto', ' 0 m²  ', ' 0 quartos', ' 0 m²  ', ' 0 quartos']\n",
      "[' 40 m²  ', ' 1 quarto', ' 40 m²  ', ' 1 quarto', ' 28 m²  ', ' 1 quarto', ' 40 m²  ', ' 1 quarto', ' 30 m²  ', ' 1 quarto', ' 30 m²  ', ' 1 quarto', ' 25 m²  ', ' 1 quarto', ' 40 m²  ', ' 1 quarto', ' 28 m²  ', ' 1 quarto', ' 26 m²  ', ' 1 quarto', ' 25 m²  ', ' 1 quarto', ' 0 m²  ', ' 0 quartos', ' 0 m²  ', ' 0 quartos']\n",
      "[' 40 m²  ', ' 1 quarto', ' 40 m²  ', ' 1 quarto', ' 28 m²  ', ' 1 quarto', ' 40 m²  ', ' 1 quarto', ' 30 m²  ', ' 1 quarto', ' 30 m²  ', ' 1 quarto', ' 25 m²  ', ' 1 quarto', ' 40 m²  ', ' 1 quarto', ' 28 m²  ', ' 1 quarto', ' 26 m²  ', ' 1 quarto', ' 25 m²  ', ' 1 quarto', ' 0 m²  ', ' 0 quartos', ' 0 m²  ', ' 0 quartos']\n",
      "[' 40 m²  ', ' 1 quarto', ' 40 m²  ', ' 1 quarto', ' 28 m²  ', ' 1 quarto', ' 40 m²  ', ' 1 quarto', ' 30 m²  ', ' 1 quarto', ' 30 m²  ', ' 1 quarto', ' 25 m²  ', ' 1 quarto', ' 40 m²  ', ' 1 quarto', ' 28 m²  ', ' 1 quarto', ' 26 m²  ', ' 1 quarto', ' 25 m²  ', ' 1 quarto', ' 0 m²  ', ' 0 quartos', ' 0 m²  ', ' 0 quartos']\n",
      "[' 40 m²  ', ' 1 quarto', ' 40 m²  ', ' 1 quarto', ' 28 m²  ', ' 1 quarto', ' 40 m²  ', ' 1 quarto', ' 30 m²  ', ' 1 quarto', ' 30 m²  ', ' 1 quarto', ' 25 m²  ', ' 1 quarto', ' 40 m²  ', ' 1 quarto', ' 28 m²  ', ' 1 quarto', ' 26 m²  ', ' 1 quarto', ' 25 m²  ', ' 1 quarto', ' 0 m²  ', ' 0 quartos', ' 0 m²  ', ' 0 quartos']\n",
      "[' 40 m²  ', ' 1 quarto', ' 40 m²  ', ' 1 quarto', ' 28 m²  ', ' 1 quarto', ' 40 m²  ', ' 1 quarto', ' 30 m²  ', ' 1 quarto', ' 30 m²  ', ' 1 quarto', ' 25 m²  ', ' 1 quarto', ' 40 m²  ', ' 1 quarto', ' 28 m²  ', ' 1 quarto', ' 26 m²  ', ' 1 quarto', ' 25 m²  ', ' 1 quarto', ' 0 m²  ', ' 0 quartos', ' 0 m²  ', ' 0 quartos']\n",
      "[' 40 m²  ', ' 1 quarto', ' 40 m²  ', ' 1 quarto', ' 28 m²  ', ' 1 quarto', ' 40 m²  ', ' 1 quarto', ' 30 m²  ', ' 1 quarto', ' 30 m²  ', ' 1 quarto', ' 25 m²  ', ' 1 quarto', ' 40 m²  ', ' 1 quarto', ' 28 m²  ', ' 1 quarto', ' 26 m²  ', ' 1 quarto', ' 25 m²  ', ' 1 quarto', ' 0 m²  ', ' 0 quartos', ' 0 m²  ', ' 0 quartos']\n",
      "[' 40 m²  ', ' 1 quarto', ' 40 m²  ', ' 1 quarto', ' 28 m²  ', ' 1 quarto', ' 40 m²  ', ' 1 quarto', ' 30 m²  ', ' 1 quarto', ' 30 m²  ', ' 1 quarto', ' 25 m²  ', ' 1 quarto', ' 40 m²  ', ' 1 quarto', ' 28 m²  ', ' 1 quarto', ' 26 m²  ', ' 1 quarto', ' 25 m²  ', ' 1 quarto', ' 0 m²  ', ' 0 quartos', ' 0 m²  ', ' 0 quartos']\n",
      "[' 40 m²  ', ' 1 quarto', ' 40 m²  ', ' 1 quarto', ' 28 m²  ', ' 1 quarto', ' 40 m²  ', ' 1 quarto', ' 30 m²  ', ' 1 quarto', ' 30 m²  ', ' 1 quarto', ' 25 m²  ', ' 1 quarto', ' 40 m²  ', ' 1 quarto', ' 28 m²  ', ' 1 quarto', ' 26 m²  ', ' 1 quarto', ' 25 m²  ', ' 1 quarto', ' 0 m²  ', ' 0 quartos', ' 0 m²  ', ' 0 quartos']\n",
      "[' 40 m²  ', ' 1 quarto', ' 40 m²  ', ' 1 quarto', ' 28 m²  ', ' 1 quarto', ' 40 m²  ', ' 1 quarto', ' 30 m²  ', ' 1 quarto', ' 30 m²  ', ' 1 quarto', ' 25 m²  ', ' 1 quarto', ' 40 m²  ', ' 1 quarto', ' 28 m²  ', ' 1 quarto', ' 26 m²  ', ' 1 quarto', ' 25 m²  ', ' 1 quarto', ' 0 m²  ', ' 0 quartos', ' 0 m²  ', ' 0 quartos']\n",
      "[' 40 m²  ', ' 1 quarto', ' 40 m²  ', ' 1 quarto', ' 28 m²  ', ' 1 quarto', ' 40 m²  ', ' 1 quarto', ' 30 m²  ', ' 1 quarto', ' 30 m²  ', ' 1 quarto', ' 25 m²  ', ' 1 quarto', ' 40 m²  ', ' 1 quarto', ' 28 m²  ', ' 1 quarto', ' 26 m²  ', ' 1 quarto', ' 25 m²  ', ' 1 quarto', ' 0 m²  ', ' 0 quartos', ' 0 m²  ', ' 0 quartos']\n",
      "[' 40 m²  ', ' 1 quarto', ' 40 m²  ', ' 1 quarto', ' 28 m²  ', ' 1 quarto', ' 40 m²  ', ' 1 quarto', ' 30 m²  ', ' 1 quarto', ' 30 m²  ', ' 1 quarto', ' 25 m²  ', ' 1 quarto', ' 40 m²  ', ' 1 quarto', ' 28 m²  ', ' 1 quarto', ' 26 m²  ', ' 1 quarto', ' 25 m²  ', ' 1 quarto', ' 0 m²  ', ' 0 quartos', ' 0 m²  ', ' 0 quartos']\n",
      "[' 40 m²  ', ' 1 quarto', ' 40 m²  ', ' 1 quarto', ' 28 m²  ', ' 1 quarto', ' 40 m²  ', ' 1 quarto', ' 30 m²  ', ' 1 quarto', ' 30 m²  ', ' 1 quarto', ' 25 m²  ', ' 1 quarto', ' 40 m²  ', ' 1 quarto', ' 28 m²  ', ' 1 quarto', ' 26 m²  ', ' 1 quarto', ' 25 m²  ', ' 1 quarto', ' 0 m²  ', ' 0 quartos', ' 0 m²  ', ' 0 quartos']\n",
      "[' 40 m²  ', ' 1 quarto', ' 40 m²  ', ' 1 quarto', ' 28 m²  ', ' 1 quarto', ' 40 m²  ', ' 1 quarto', ' 30 m²  ', ' 1 quarto', ' 30 m²  ', ' 1 quarto', ' 25 m²  ', ' 1 quarto', ' 40 m²  ', ' 1 quarto', ' 28 m²  ', ' 1 quarto', ' 26 m²  ', ' 1 quarto', ' 25 m²  ', ' 1 quarto', ' 0 m²  ', ' 0 quartos', ' 0 m²  ', ' 0 quartos']\n"
     ]
    }
   ],
   "source": [
    "# Selecionando o numero de quartos\n",
    "ap = soup.find_all('span', class_='hhh4j4-1 ldRYl sc-bdVaJa ivMPuZ')    \n",
    "\n",
    "for a in ap:\n",
    "    aps = [i.text for i in ap]\n",
    "    print(aps)"
   ]
  },
  {
   "cell_type": "code",
   "execution_count": 14,
   "metadata": {},
   "outputs": [
    {
     "data": {
      "text/plain": [
       "'Aluguel R$\\xa01.300 '"
      ]
     },
     "execution_count": 14,
     "metadata": {},
     "output_type": "execute_result"
    }
   ],
   "source": [
    "alguel_imovel = soup.find('p', class_='m82tat-3 kVYbKp sc-bdVaJa dfcRZz').get_text()\n",
    "alguel_imovel"
   ]
  },
  {
   "cell_type": "code",
   "execution_count": 1,
   "metadata": {},
   "outputs": [],
   "source": [
    "import bs4 as bs4\n",
    "import urllib.request\n",
    "import requests\n",
    "import time\n",
    "import pandas as pd\n",
    "\n",
    "class Scraper:\n",
    "    def __init__(self):\n",
    "        self.url = list(url)\n",
    "        self.base_dds = base_dds\n",
    "        self.nome = nome\n",
    "        self.data = data\n",
    "\n",
    "    def Coleta_dados(urls, base_dds):\n",
    "        '''\n",
    "        Scraper metod to get all the data from the imovel site\n",
    "        '''\n",
    "        for url in urls:\n",
    "            print('='*40)\n",
    "            print(f'Start Scraping at: {url}')\n",
    "            \n",
    "            source = urllib.request.urlopen(url).read()\n",
    "            time.sleep(5)\n",
    "            soup = bs4.BeautifulSoup(source,'lxml')\n",
    "            \n",
    "            tipo_imovel = soup.find_all('span', class_='hhh4j4-2 hyCyhO sc-bdVaJa pPfii')\n",
    "            m_imovel = soup.find_all('span', {'data-testid':'house-card-area'})   \n",
    "            q_imovel = soup.find_all('span', {'data-testid':'house-card-bedrooms'})\n",
    "            r_imovel = soup.find_all('p', class_='sc-bdVaJa falbBb')\n",
    "            l_imovel = soup.find_all('p', class_='sc-bdVaJa Ongdx')\n",
    "            a_imovel = soup.find_all('p', class_='m82tat-3 kVYbKp sc-bdVaJa dfcRZz')\n",
    "            t_imovel = soup.find_all('p', class_='sc-bdVaJa WCcfX')\n",
    "            i_imovel = soup.find_all('img', class_='sc-1nwwxw0-1 gkYlQS')\n",
    "\n",
    "            for tipo in tipo_imovel:\n",
    "                type_imovel = [i.text for i in tipo_imovel]\n",
    "\n",
    "            for m in m_imovel:\n",
    "                metros_imovel = [metros.text for metros in m_imovel]\n",
    "\n",
    "            for q in q_imovel:\n",
    "                quartos_imovel = [quartos.text for quartos in q_imovel]\n",
    "\n",
    "            for r in r_imovel:\n",
    "                rua_imovel = [rua.text for rua in r_imovel]\n",
    "\n",
    "            for l in l_imovel:\n",
    "                local_imovel = [local.text for local in l_imovel]\n",
    "\n",
    "            for a in a_imovel:\n",
    "                aluguel_imovel = [aluguel.text for aluguel in a_imovel]\n",
    "\n",
    "            for t in t_imovel:\n",
    "                total_imovel = [total.text for total in t_imovel]\n",
    "\n",
    "            for i in i_imovel:\n",
    "                imagem_imovel = [imagem['src'] for imagem in i_imovel]\n",
    "\n",
    "            # Creating the dataframe to store all the data\n",
    "            data = pd.DataFrame(list(zip(\n",
    "                       type_imovel,metros_imovel, quartos_imovel,\n",
    "                       rua_imovel, local_imovel, aluguel_imovel,\n",
    "                       total_imovel, imagem_imovel)),\n",
    "                       columns=[\n",
    "                           'tipo_imovel', 'm_quadrado', 'qntd_quartos',\n",
    "                           'rua_imovel', 'bairro_imovel', 'aluguel',\n",
    "                           'preco_total', 'img_imovel'])\n",
    "            \n",
    "            print(f'Everything ok, just found {data.shape} data!')\n",
    "            base_dds = base_dds.append([data])\n",
    "        return base_dds\n",
    "    \n",
    "    def Trata_dados(data):\n",
    "        '''\n",
    "        Clean all the data, and make it readable to\n",
    "        My ml models\n",
    "        '''\n",
    "        print('='*40)\n",
    "        print('Start Data Cleaning!')\n",
    "        data['m_quadrado'] = data['m_quadrado'].str.replace(r'm²', '')\n",
    "        data['aluguel'] = data['aluguel'].str.replace(r'Aluguel','')\n",
    "        data['preco_total'] = data['preco_total'].str.replace(r'Total','')\n",
    "        \n",
    "        data['aluguel'] = data['aluguel'].map(lambda x: x.lstrip('R$ '))\n",
    "        #data['aluguel'] = data['aluguel'].str.replace(r' R$Â ', '')\n",
    "        data['preco_total'] = data['preco_total'].map(lambda x: x.lstrip('R$ '))\n",
    "        data['qntd_quartos'] = data['qntd_quartos'].str.replace(r' quartos', '')\n",
    "        data['qntd_quartos'] = data['qntd_quartos'].str.replace(r' quarto', '')\n",
    "        data['bairro_imovel'] = data['bairro_imovel'].str.replace(r', São Paulo', '')\n",
    "        data['bairro_imovel'] = data['bairro_imovel'].str.replace(r' ', '')\n",
    "        data['rua_imovel'] = data['rua_imovel'].str.replace(r' ','')\n",
    "        data['img_imovel'] = data['img_imovel'].str.replace(r'/img','www.quintoandar.com.br/img')\n",
    "        \n",
    "        #Creates a new feature that tells the model if the place is 'safer' to live or not\n",
    "        bairros_seguros = ['BelaVista', 'SantaCecília', 'Consolação']\n",
    "        teste = data.bairro_imovel.isin(bairros_seguros)\n",
    "        data['e_seguro'] = teste\n",
    "        data['e_seguro'] = data['e_seguro'] * 1 \n",
    "        data['y'] = 0\n",
    "        \n",
    "        print('Done')\n",
    "        return data\n",
    "    \n",
    "    def Save_data(name, data):\n",
    "        '''\n",
    "        Save the data scraped in a .csv format\n",
    "        '''\n",
    "        #name = str(name)\n",
    "        print('='*40)\n",
    "        data.to_csv(name, sep=',', index=False)\n",
    "        print(f'data saved with file name of {name}')\n",
    "        pass"
   ]
  },
  {
   "cell_type": "code",
   "execution_count": 2,
   "metadata": {},
   "outputs": [
    {
     "name": "stdout",
     "output_type": "stream",
     "text": [
      "========================================\n",
      "Start Scraping at: https://www.quintoandar.com.br/alugar/imovel/sao-paulo-sp-brasil/\n",
      "Everything ok, just found (11, 8) data!\n",
      "========================================\n",
      "Start Data Cleaning!\n",
      "Done\n",
      "========================================\n",
      "data saved with file name of 14-08-20_semy.csv\n"
     ]
    }
   ],
   "source": [
    "base_dds = pd.DataFrame()\n",
    "\n",
    "sites = ['https://www.quintoandar.com.br/alugar/imovel/sao-paulo-sp-brasil/']\n",
    "base_dds = Scraper.Coleta_dados(sites, base_dds)\n",
    "base_dds = Scraper.Trata_dados(base_dds)\n",
    "Scraper.Save_data('14-08-20_semy.csv', base_dds)"
   ]
  }
 ],
 "metadata": {
  "kernelspec": {
   "display_name": "Python 3.7.4 64-bit",
   "language": "python",
   "name": "python37464bit19f7f6f2a960497c82206346eefb1f66"
  },
  "language_info": {
   "codemirror_mode": {
    "name": "ipython",
    "version": 3
   },
   "file_extension": ".py",
   "mimetype": "text/x-python",
   "name": "python",
   "nbconvert_exporter": "python",
   "pygments_lexer": "ipython3",
   "version": "3.7.4"
  }
 },
 "nbformat": 4,
 "nbformat_minor": 2
}
